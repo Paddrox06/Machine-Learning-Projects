{
  "nbformat": 4,
  "nbformat_minor": 0,
  "metadata": {
    "colab": {
      "name": "MLH_16803_p1.ipynb",
      "provenance": [],
      "collapsed_sections": [],
      "include_colab_link": true
    },
    "kernelspec": {
      "name": "python3",
      "display_name": "Python 3"
    },
    "language_info": {
      "name": "python"
    }
  },
  "cells": [
    {
      "cell_type": "markdown",
      "metadata": {
        "id": "view-in-github",
        "colab_type": "text"
      },
      "source": [
        "<a href=\"https://colab.research.google.com/github/Paddrox06/Machine-Learning-Projects/blob/main/MLH_16803_p1.ipynb\" target=\"_parent\"><img src=\"https://colab.research.google.com/assets/colab-badge.svg\" alt=\"Open In Colab\"/></a>"
      ]
    },
    {
      "cell_type": "markdown",
      "metadata": {
        "id": "bVF_zAVzo_35"
      },
      "source": [
        "# Machine Learning in Healthcare\n",
        "\n",
        "**Practise 1*: EDA + Modeling clinical data***\n",
        "\n",
        "**Professor**: Fernando Pozo\n",
        "\n",
        "**Starting date**: September 17, 2021\n",
        "\n",
        "**Due date**: October 25, 2021\n",
        "\n",
        "**Degree**: B.Sc. in Data Science and Engineering\n",
        "\n",
        "**Course**: 2021-2022"
      ]
    },
    {
      "cell_type": "markdown",
      "metadata": {
        "id": "6TBLLmwWlJvk"
      },
      "source": [
        "---"
      ]
    },
    {
      "cell_type": "markdown",
      "metadata": {
        "id": "LEr6fQ1IeCu4"
      },
      "source": [
        "## Introduction\n",
        "\n",
        "First of all, in case you are not familiarized with Google Colab, follow this [overview of colaboratory feature](https://colab.research.google.com/notebooks/basic_features_overview.ipynb) or feel free googling for it."
      ]
    },
    {
      "cell_type": "markdown",
      "metadata": {
        "id": "doRCOJ0uoCuW"
      },
      "source": [
        "## Getting data from [Physionet](https://www.physionet.org/)\n",
        "\n",
        "PhysioNet is a repository of freely-available medical research data, managed by the MIT Laboratory for Computational Physiology.\n",
        "\n",
        "[Register](https://physionet.org/register/) your free acount"
      ]
    },
    {
      "cell_type": "markdown",
      "metadata": {
        "id": "JDXFS9fEpcZp"
      },
      "source": [
        "### Clinical data from the MIMIC-II database for a case study on indwelling arterial catheters\n",
        "\n",
        "[Reference](https://physionet.org/content/mimic2-iaccd/1.0/).\n",
        "\n",
        "**Indwelling arterial catheters** (IACs) are used extensively in the ICU for hemodynamic monitoring and for blood gas analysis. IAC use also poses potentially serious risks, including bloodstream infections and vascular complications. In 2015, Hsu et al published a study to assess whether IAC use was associated with mortality in patients who are mechanically ventilated and do not require vasopressor support.\n",
        "\n",
        "The dataset is derived from MIMIC-II, the publicly-accessible critical care database. It contains summary clinical data and  outcomes for 1,776 patients. Moreover, the dataset contains 46 variables were extracted from MIMIC-II, including demographics (e.g. age, weight), clinical observations collected during the first day of ICU stay (e.g. white blood cell count, heart rate), and outcomes (e.g. 28 day mortality and length of stay). It is shared as a comma separated value (CSV) file, along with a data dictionary.\n",
        "\n",
        "The dataset (`full_cohort_data.csv`) is a comma separated value file that includes a header with descriptive variable names. `day_28_flg` was the main outcome of interest, while `aline_flg` was the primary covariate of interest. There is an accompanying data dictionary (`data_dictionary.txt`) which contains the metadata about the variables"
      ]
    },
    {
      "cell_type": "code",
      "metadata": {
        "cellView": "form",
        "id": "JOuzJeqWlDf1"
      },
      "source": [
        "#@title Downloading the database\n",
        "!wget -r -N -c -np https://physionet.org/files/mimic2-iaccd/1.0/"
      ],
      "execution_count": null,
      "outputs": []
    },
    {
      "cell_type": "markdown",
      "metadata": {
        "id": "UsrJyvEdp2-K"
      },
      "source": [
        "#### Setup\n",
        "\n",
        "Below, import the set of libraries you are going to use to follow this hands-on."
      ]
    },
    {
      "cell_type": "code",
      "metadata": {
        "id": "qeOGo47dk57q",
        "cellView": "form"
      },
      "source": [
        "#@title Loading the database\n",
        "import pandas as pd\n",
        "df = pd.read_csv('/content/physionet.org/files/mimic2-iaccd/1.0/full_cohort_data.csv')\n",
        "df.head(15)"
      ],
      "execution_count": null,
      "outputs": []
    },
    {
      "cell_type": "markdown",
      "metadata": {
        "id": "jbIdY1hcrOnJ"
      },
      "source": [
        "## Exercise 1 (20%):\n",
        "Please, analyse and explore the data set and report some the particularities you can notice in this type of data. Then, comment some of the ideas extracted with your partners in the [class document](https://docs.google.com/document/d/1zwZ3AAOqsv1N2wpmsyzD8rfl6om970l4JNzVxJO8Rlc/edit). One you have commented in the document, collect this ideas in your final report and justify them."
      ]
    },
    {
      "cell_type": "code",
      "metadata": {
        "cellView": "form",
        "id": "KOy6czLpgdyY"
      },
      "source": [
        "#@title 1.1 What are the particularities of clinical data? Justify why.\n"
      ],
      "execution_count": null,
      "outputs": []
    },
    {
      "cell_type": "markdown",
      "metadata": {
        "id": "IbbXP_XozPKV"
      },
      "source": [
        "## Exercise 2 (80%): \n",
        "The previous data set was used throughout [Chapter 16 (Data Analysis)](https://link.springer.com/chapter/10.1007/978-3-319-43742-2_16) by Raffa J. et al. to investigate the effectiveness of indwelling arterial catheters in hemodynamically stable patients with respiratory failure for mortality outcomes. This [repository](https://github.com/MIT-LCP/aline-mimic-ii) also contains information about data analysis reported. The student should be able to:\n",
        "- Read the materials already described by authors. It includes information to understand how the data set was done, some of the particularities of clinical data (previously commented above) and some data analysis methods used.\n",
        "- Create an exploratory data analysis (EDA) of this data set (40%).\n",
        "- Develop another machine learning models different than the ones shown in the report. (40%).\n",
        "- Try to get some extra insights with the proposal 2.3, 2.4 and 2.5 activities.\n",
        "- Take their old machine learning stuff and consult all the possible useful material over the web in order to provide the best results for this assignment. Of course, ask to the Professor in case of don't know how to make it.\n",
        "- Share your **own work** with the Professor by email ([fpozoca@gmail.com](mailto:fpozoca@gmail.com)) before **25 October 2021 (23:59 CEST)**. It could be shared directly by this link or setting up your own GitHub directory within this notebook inside."
      ]
    },
    {
      "cell_type": "code",
      "metadata": {
        "id": "Fnrou4OFfSOY",
        "cellView": "form"
      },
      "source": [
        "#@title 2.1 Exploratory data analysis (compulsory)\n",
        "!pip install dataprep\n",
        "from dataprep.eda import plot"
      ],
      "execution_count": null,
      "outputs": []
    },
    {
      "cell_type": "code",
      "metadata": {
        "id": "2x5ZoI9bhDW4"
      },
      "source": [
        "plot(df)"
      ],
      "execution_count": null,
      "outputs": []
    },
    {
      "cell_type": "code",
      "metadata": {
        "id": "yWuDNUVAhDdX"
      },
      "source": [
        "plot(df, \"age\")"
      ],
      "execution_count": null,
      "outputs": []
    },
    {
      "cell_type": "code",
      "metadata": {
        "id": "Jsh68TiGhDjl"
      },
      "source": [
        "from dataprep.eda import create_report\n",
        "report = create_report(df, title='My first report')\n",
        "report.save(filename='report_01', to='/content')"
      ],
      "execution_count": null,
      "outputs": []
    },
    {
      "cell_type": "code",
      "metadata": {
        "cellView": "form",
        "id": "e6FKI7Kzfglo"
      },
      "source": [
        "#@title 2.2 Data modelling (compulsory)\n"
      ],
      "execution_count": null,
      "outputs": []
    },
    {
      "cell_type": "code",
      "metadata": {
        "cellView": "form",
        "id": "H4r9DGvQfg15"
      },
      "source": [
        "#@title 2.3 Model evaluation (optional)\n"
      ],
      "execution_count": null,
      "outputs": []
    },
    {
      "cell_type": "code",
      "metadata": {
        "cellView": "form",
        "id": "MnflfeA6fhAp"
      },
      "source": [
        "#@title 2.4 Model intepretability (optional)\n"
      ],
      "execution_count": null,
      "outputs": []
    },
    {
      "cell_type": "code",
      "metadata": {
        "cellView": "form",
        "id": "9z93zlYFf82x"
      },
      "source": [
        "#@title 2.5 Extra content (optional)\n"
      ],
      "execution_count": null,
      "outputs": []
    },
    {
      "cell_type": "markdown",
      "metadata": {
        "id": "ca6xb3pj45Oc"
      },
      "source": [
        "## Extra notes\n",
        "If you want to set up a GitHub repository (recommended), please, follow this name structure (`MLH16803_P1_XX`) being the `XX` your initials.\n",
        "\n",
        "In my case, my repository would be called `MLH16803_P1_FP`. In case you don't know how to create a GitHub repository, please check this [tutorial](https://docs.github.com/en/get-started/quickstart/create-a-repo). In case you don't manage version control systems like Git, we are going to follow a special Hands-on for this task, but you can start consulting this [tutorial](https://swcarpentry.github.io/git-novice/)."
      ]
    },
    {
      "cell_type": "markdown",
      "metadata": {
        "id": "1k8C_x4TeUTh"
      },
      "source": [
        "## Useful references for notebook code formatting\n",
        "\n",
        "* [Github Markdown basics](https://help.github.com/articles/markdown-basics/)\n",
        "* [Github flavored Markdown](https://help.github.com/articles/github-flavored-markdown/)\n",
        "* [Original Markdown spec: Syntax](http://daringfireball.net/projects/markdown/syntax)\n",
        "* [Original Markdown spec: Basics](http://daringfireball.net/projects/markdown/basics)\n",
        "* [marked.js library used by Colab](https://github.com/chjj/marked)\n",
        "* [LaTex mathematics for equations](https://en.wikibooks.org/wiki/LaTeX/Mathematics)"
      ]
    },
    {
      "cell_type": "markdown",
      "metadata": {
        "id": "ODYUpAXikusq"
      },
      "source": [
        "# Conclusion\n",
        "\n",
        "Feel free to ask whatever you need by email ([fpozoca@gmail.com](mailto:fpozoca@gmail.com)), in class or contacting with me by [my website](https://www.fpozoc.com/)."
      ]
    }
  ]
}